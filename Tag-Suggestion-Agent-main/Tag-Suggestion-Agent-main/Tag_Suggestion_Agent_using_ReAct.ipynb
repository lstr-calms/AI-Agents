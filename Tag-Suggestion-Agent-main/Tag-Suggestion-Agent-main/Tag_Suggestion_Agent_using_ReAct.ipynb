{
  "nbformat": 4,
  "nbformat_minor": 0,
  "metadata": {
    "colab": {
      "provenance": [],
      "authorship_tag": "ABX9TyNgDhswH2itfBbiWnyd1U8H",
      "include_colab_link": true
    },
    "kernelspec": {
      "name": "python3",
      "display_name": "Python 3"
    },
    "language_info": {
      "name": "python"
    }
  },
  "cells": [
    {
      "cell_type": "markdown",
      "metadata": {
        "id": "view-in-github",
        "colab_type": "text"
      },
      "source": [
        "<a href=\"https://colab.research.google.com/github/lstr-calms/AI-Agents/blob/main/Tag_Suggestion_Agent_using_ReAct.ipynb\" target=\"_parent\"><img src=\"https://colab.research.google.com/assets/colab-badge.svg\" alt=\"Open In Colab\"/></a>"
      ]
    },
    {
      "cell_type": "markdown",
      "source": [
        "# React Pattern Overview\n",
        "--> ReAct (Reasoning + Acting) loop simulates how intelligent agent can solve problems step-by-step\n",
        "\n",
        "    Thought -> Action -> Observation -> (repeat) -> Final Answer"
      ],
      "metadata": {
        "id": "vywZzQ_-m4Ci"
      }
    },
    {
      "cell_type": "code",
      "source": [
        "#Define a dictionary for keywords\n",
        "tag_library = {\n",
        "    \"rusted\" : \"Corrosion\",\n",
        "    \"corroded\" : \"Corrosion\",\n",
        "    \"valve\" : \"Valve\",\n",
        "    \"pipe\" : \"Pipeline\",\n",
        "    \"compressor\" : \"Compressor Zone\",\n",
        "    \"leak\" : \"Leakage\",\n",
        "    \"noise\" : \"Abnormal Sound\",\n",
        "    \"vibration\" : \"Vibration\",\n",
        "}"
      ],
      "metadata": {
        "id": "46eH9zzem2Po"
      },
      "execution_count": null,
      "outputs": []
    },
    {
      "cell_type": "markdown",
      "metadata": {
        "id": "189a64c4"
      },
      "source": [
        "# React Pattern Overview and Example\n",
        "\n",
        "This notebook demonstrates the ReAct (Reasoning + Acting) pattern, a simple yet effective approach for building intelligent agents that can solve problems step-by-step.\n",
        "\n",
        "## ReAct Pattern\n",
        "\n",
        "The core idea of ReAct is to simulate a loop of:\n",
        "\n",
        "1.  **Thought**: The agent considers what to do next.\n",
        "2.  **Action**: The agent performs an action based on its thought.\n",
        "3.  **Observation**: The agent observes the result of the action.\n",
        "\n",
        "This loop repeats until a **Final Answer** is reached.\n",
        "\n",
        "## Example: Simple Tagging Agent\n",
        "\n",
        "The notebook includes a simple example of a ReAct agent that tags a given description based on a predefined library of keywords.\n",
        "\n",
        "### `tag_library`\n",
        "\n",
        "This is a dictionary that maps keywords found in the description to relevant tags."
      ]
    },
    {
      "cell_type": "code",
      "source": [
        "# Simple ReAct Agent\n",
        "def tag_agent(description):\n",
        "    tags = set()\n",
        "    words = description.lower().split()\n",
        "\n",
        "    for word in words:\n",
        "        print(f\"Thought: Is '{word}' a keyword?\")\n",
        "        if word in tag_library:\n",
        "            tag = tag_library[word]\n",
        "            print(f\"Action: Found match for '{word}' in tag library: '{tag}'\")\n",
        "            print(f\"Observation: Adding '{tag}' to the first tag list\")\n",
        "            tags.add(tag)\n",
        "        else:\n",
        "            print(f\"Observation: No match for '{word}' in tag library\")\n",
        "\n",
        "    print(f\"Final Answer:\", list(tags))\n",
        "    return list(tags)"
      ],
      "metadata": {
        "id": "ReT3LrHrnCi-"
      },
      "execution_count": null,
      "outputs": []
    },
    {
      "cell_type": "code",
      "source": [
        "#Test the Agent\n",
        "tag_agent(\"Rusted valve found near compressor 2\")"
      ],
      "metadata": {
        "colab": {
          "base_uri": "https://localhost:8080/"
        },
        "id": "YPQu3aStnFNN",
        "outputId": "fea81e8a-5071-47c2-a89f-1915798dc09c"
      },
      "execution_count": null,
      "outputs": [
        {
          "output_type": "stream",
          "name": "stdout",
          "text": [
            "Thought: Is 'rusted' a keyword?\n",
            "Action: Found match for 'rusted' in tag library: 'Corrosion'\n",
            "Observation: Adding 'Corrosion' to the first tag list\n",
            "Thought: Is 'valve' a keyword?\n",
            "Action: Found match for 'valve' in tag library: 'Valve'\n",
            "Observation: Adding 'Valve' to the first tag list\n",
            "Thought: Is 'found' a keyword?\n",
            "Observation: No match for 'found' in tag library\n",
            "Thought: Is 'near' a keyword?\n",
            "Observation: No match for 'near' in tag library\n",
            "Thought: Is 'compressor' a keyword?\n",
            "Action: Found match for 'compressor' in tag library: 'Compressor Zone'\n",
            "Observation: Adding 'Compressor Zone' to the first tag list\n",
            "Thought: Is '2' a keyword?\n",
            "Observation: No match for '2' in tag library\n",
            "Final Answer: ['Compressor Zone', 'Valve', 'Corrosion']\n"
          ]
        },
        {
          "output_type": "execute_result",
          "data": {
            "text/plain": [
              "['Compressor Zone', 'Valve', 'Corrosion']"
            ]
          },
          "metadata": {},
          "execution_count": 3
        }
      ]
    }
  ]
}